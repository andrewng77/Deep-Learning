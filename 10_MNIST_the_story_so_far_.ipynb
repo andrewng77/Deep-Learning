{
  "nbformat": 4,
  "nbformat_minor": 0,
  "metadata": {
    "colab": {
      "name": "10 MNIST the story so far .ipynb",
      "provenance": [],
      "collapsed_sections": [],
      "toc_visible": true,
      "authorship_tag": "ABX9TyNoVietsBs53SUtX2sms7nJ",
      "include_colab_link": true
    },
    "kernelspec": {
      "name": "python3",
      "display_name": "Python 3"
    },
    "accelerator": "GPU"
  },
  "cells": [
    {
      "cell_type": "markdown",
      "metadata": {
        "id": "view-in-github",
        "colab_type": "text"
      },
      "source": [
        "<a href=\"https://colab.research.google.com/github/andrewng88/Deep-Learning/blob/master/10_MNIST_the_story_so_far_.ipynb\" target=\"_parent\"><img src=\"https://colab.research.google.com/assets/colab-badge.svg\" alt=\"Open In Colab\"/></a>"
      ]
    },
    {
      "cell_type": "code",
      "metadata": {
        "id": "siNOqIa6V0-C",
        "colab_type": "code",
        "colab": {}
      },
      "source": [
        "# MNIST\n",
        "# Dataloader, Transformation\n",
        "# Multilayer NN, activation function\n",
        "# Loss and Optimizer\n",
        "# Training Loop ( batch training )\n",
        "# Model eval\n",
        "# GPU support - thank you Google Colab\n",
        "\n",
        "import torch\n",
        "import torch.nn as nn\n",
        "import numpy as np\n",
        "import torchvision\n",
        "import torchvision.transforms as transforms\n",
        "import matplotlib.pyplot as plt\n",
        "\n",
        "# Device configuration\n",
        "device = torch.device('cuda' if torch.cuda.is_available() else 'cpu')\n",
        "\n",
        "from google.colab import drive\n",
        "drive.mount('/content/gdrive/', force_remount=True)\n",
        "\n",
        "# change directory \n",
        "%cd /content/gdrive/My\\ Drive/Colab\\ Notebooks/\n",
        "# assert directory\n",
        "%pwd"
      ],
      "execution_count": 0,
      "outputs": []
    },
    {
      "cell_type": "code",
      "metadata": {
        "id": "DMc9V_Q5hfOD",
        "colab_type": "code",
        "outputId": "1a9aff1c-0443-4474-e1ae-50269a6a3405",
        "colab": {
          "base_uri": "https://localhost:8080/",
          "height": 811
        }
      },
      "source": [
        "# hyper parameters\n",
        "input_size = 784 #mnist image is 28 x 28\n",
        "hidden_size = 500 # \n",
        "num_classes = 10 #digits 0 to 9\n",
        "num_epochs = 5 # can be higher\n",
        "batch_size = 100\n",
        "learning_rate = 0.0005\n",
        "\n",
        "# MNIST\n",
        "train_dataset = torchvision.datasets.MNIST(root='./data', \n",
        "                                           train=True, \n",
        "                                           download=True, \n",
        "                                           transform=transforms.ToTensor())\n",
        "\n",
        "test_dataset = torchvision.datasets.MNIST(root='./data', \n",
        "                                          train=False, \n",
        "                                          transform=transforms.ToTensor())\n",
        "\n",
        "train_loader = torch.utils.data.DataLoader(dataset=train_dataset,\n",
        "                                           batch_size=batch_size,\n",
        "                                           shuffle=True,\n",
        "                                           num_workers=2)\n",
        "test_loader = torch.utils.data.DataLoader(dataset=test_dataset,\n",
        "                                          batch_size=batch_size,\n",
        "                                          shuffle=False,\n",
        "                                          num_workers=2)\n",
        "\n",
        "examples = iter(train_loader)\n",
        "samples, labels = examples.next()\n",
        "print(samples.shape,labels.shape)\n",
        "# torch.Size([100, 1, 28, 28]) batch size, B&W single channel, 28 x 28\n",
        "# torch.Size([100]) 100 y_actual\n",
        "\n",
        "# display osme images\n",
        "for i in range(6):\n",
        "    plt.subplot(2,3,i+1)\n",
        "    plt.imshow(samples[i][0], cmap='gray')\n",
        "plt.show()\n",
        "\n",
        "# Fully connected neural network with one hidden layer\n",
        "class NeuralNet(nn.Module):\n",
        "  def __init__(self,input_size,hidden_size,num_classes):\n",
        "    super(NeuralNet,self).__init__()\n",
        "    self.input_size = input_size\n",
        "    self.l1 = nn.Linear(input_size,hidden_size)\n",
        "    self.relu = nn.ReLU()\n",
        "    self.l2 = nn.Linear(hidden_size,num_classes)\n",
        "\n",
        "  def forward(self,x):\n",
        "    out = self.l1(x)\n",
        "    out = self.relu(out)\n",
        "    out = self.l2(out)\n",
        "    # no activation and no softmax at the end\n",
        "    return out\n",
        "\n",
        "# remember to send to GPU\n",
        "model = NeuralNet(input_size,hidden_size,num_classes).to(device)\n",
        "\n",
        "#loss & optimizer\n",
        "criterion = nn.CrossEntropyLoss()\n",
        "optimizer = torch.optim.Adam(model.parameters(), lr=learning_rate,weight_decay=0.001)\n",
        "\n",
        "#training loop\n",
        "n_total_steps = len(train_loader)\n",
        "for epoch in range(num_epochs):\n",
        "  for i, (images, labels) in enumerate(train_loader):\n",
        "    # origin shape: [100, 1, 28, 28]\n",
        "    # resized: [100, 784]\n",
        "    images = images.view(100,784).to(device) #need to reshape because of 100 x 784 hidden layer\n",
        "    labels = labels.to(device)\n",
        "\n",
        "    # forward \n",
        "    outputs = model(images)\n",
        " \n",
        "    # loss\n",
        "    loss = criterion(outputs, labels)\n",
        "\n",
        "    # Backward pass and update\n",
        "    optimizer.zero_grad() # zero grad before new step\n",
        "    loss.backward()\n",
        "    optimizer.step()\n",
        "\n",
        "    if (i+1) % 100 == 0:\n",
        "        print(f'epoch:{epoch+1}/{num_epochs},step:{i+1}/{n_total_steps},loss = {loss.item():.4f},')\n",
        "\n",
        "# Test the model\n",
        "# In test phase, we don't need to compute gradients (for memory efficiency)\n",
        "with torch.no_grad():\n",
        "  #initialize\n",
        "  n_correct = 0\n",
        "  n_samples = 0\n",
        "  \n",
        "  for images,labels in test_loader:\n",
        "    images = images.view(100,784).to(device) #need to reshape because of 100 x 784 hidden layer\n",
        "    labels = labels.to(device)\n",
        "    outputs = model(images)\n",
        "\n",
        "  # max returns (value ,index)\n",
        "    _,predictions = torch.max(outputs,1)\n",
        "    n_samples +=labels.shape[0]\n",
        "    n_correct += (predictions == labels).sum().item()\n",
        "  \n",
        "  acc = (n_correct / n_samples) * 100\n",
        "  print(f'Accuracy of the network on the 100 test images: {acc:.3f} %')"
      ],
      "execution_count": 24,
      "outputs": [
        {
          "output_type": "stream",
          "text": [
            "torch.Size([100, 1, 28, 28]) torch.Size([100])\n"
          ],
          "name": "stdout"
        },
        {
          "output_type": "display_data",
          "data": {
            "image/png": "[encoded data removed]",
            "text/plain": [
              "<Figure size 432x288 with 6 Axes>"
            ]
          },
          "metadata": {
            "tags": []
          }
        },
        {
          "output_type": "stream",
          "text": [
            "epoch:1/5,step:100/600,loss = 0.4724,\n",
            "epoch:1/5,step:200/600,loss = 0.3763,\n",
            "epoch:1/5,step:300/600,loss = 0.2053,\n",
            "epoch:1/5,step:400/600,loss = 0.1891,\n",
            "epoch:1/5,step:500/600,loss = 0.2426,\n",
            "epoch:1/5,step:600/600,loss = 0.2752,\n",
            "epoch:2/5,step:100/600,loss = 0.1380,\n",
            "epoch:2/5,step:200/600,loss = 0.2346,\n",
            "epoch:2/5,step:300/600,loss = 0.1418,\n",
            "epoch:2/5,step:400/600,loss = 0.1607,\n",
            "epoch:2/5,step:500/600,loss = 0.1777,\n",
            "epoch:2/5,step:600/600,loss = 0.1666,\n",
            "epoch:3/5,step:100/600,loss = 0.0805,\n",
            "epoch:3/5,step:200/600,loss = 0.1397,\n",
            "epoch:3/5,step:300/600,loss = 0.0754,\n",
            "epoch:3/5,step:400/600,loss = 0.1203,\n",
            "epoch:3/5,step:500/600,loss = 0.1373,\n",
            "epoch:3/5,step:600/600,loss = 0.2005,\n",
            "epoch:4/5,step:100/600,loss = 0.1789,\n",
            "epoch:4/5,step:200/600,loss = 0.1718,\n",
            "epoch:4/5,step:300/600,loss = 0.1055,\n",
            "epoch:4/5,step:400/600,loss = 0.1030,\n",
            "epoch:4/5,step:500/600,loss = 0.1000,\n",
            "epoch:4/5,step:600/600,loss = 0.1876,\n",
            "epoch:5/5,step:100/600,loss = 0.0910,\n",
            "epoch:5/5,step:200/600,loss = 0.1151,\n",
            "epoch:5/5,step:300/600,loss = 0.1272,\n",
            "epoch:5/5,step:400/600,loss = 0.0908,\n",
            "epoch:5/5,step:500/600,loss = 0.0786,\n",
            "epoch:5/5,step:600/600,loss = 0.1039,\n",
            "Accuracy of the network on the 100 test images: 96.880 %\n"
          ],
          "name": "stdout"
        }
      ]
    }
  ]
}