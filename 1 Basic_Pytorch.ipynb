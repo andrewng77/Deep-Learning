{
  "nbformat": 4,
  "nbformat_minor": 0,
  "metadata": {
    "colab": {
      "name": "Basic Pytorch",
      "provenance": [],
      "collapsed_sections": [],
      "authorship_tag": "ABX9TyNOQuVYMVNXsINhyQR2Zl2V"
    },
    "kernelspec": {
      "name": "python3",
      "display_name": "Python 3"
    }
  },
  "cells": [
    {
      "cell_type": "markdown",
      "metadata": {
        "id": "iElTTNrtwelZ",
        "colab_type": "text"
      },
      "source": [
        "Basic Pytorch"
      ]
    },
    {
      "cell_type": "code",
      "metadata": {
        "id": "6bpwMx0R0TjM",
        "colab_type": "code",
        "colab": {}
      },
      "source": [
        "import torch\n",
        "\n",
        "x= torch.rand(3)"
      ],
      "execution_count": 0,
      "outputs": []
    },
    {
      "cell_type": "code",
      "metadata": {
        "id": "ovIXDdKg0Wyq",
        "colab_type": "code",
        "outputId": "b4363c91-e1c4-4709-847e-888616795434",
        "colab": {
          "base_uri": "https://localhost:8080/",
          "height": 34
        }
      },
      "source": [
        "print(x)"
      ],
      "execution_count": 2,
      "outputs": [
        {
          "output_type": "stream",
          "text": [
            "tensor([0.9181, 0.5966, 0.3178])\n"
          ],
          "name": "stdout"
        }
      ]
    },
    {
      "cell_type": "code",
      "metadata": {
        "id": "ZJE_ROlY0Yp6",
        "colab_type": "code",
        "outputId": "9aac4665-3f33-45b4-8d2d-dc8a6c6101e3",
        "colab": {
          "base_uri": "https://localhost:8080/",
          "height": 34
        }
      },
      "source": [
        "torch.cuda.is_available()"
      ],
      "execution_count": 3,
      "outputs": [
        {
          "output_type": "execute_result",
          "data": {
            "text/plain": [
              "False"
            ]
          },
          "metadata": {
            "tags": []
          },
          "execution_count": 3
        }
      ]
    },
    {
      "cell_type": "code",
      "metadata": {
        "id": "RBe9RFj50agj",
        "colab_type": "code",
        "outputId": "40bf87f8-22f6-443a-96a7-1fc0c16c43b4",
        "colab": {
          "base_uri": "https://localhost:8080/",
          "height": 51
        }
      },
      "source": [
        "#empty tensor\n",
        "x = torch.empty(2,3)\n",
        "x"
      ],
      "execution_count": 4,
      "outputs": [
        {
          "output_type": "execute_result",
          "data": {
            "text/plain": [
              "tensor([[7.3401e-36, 0.0000e+00, 0.0000e+00],\n",
              "        [0.0000e+00, 0.0000e+00, 0.0000e+00]])"
            ]
          },
          "metadata": {
            "tags": []
          },
          "execution_count": 4
        }
      ]
    },
    {
      "cell_type": "code",
      "metadata": {
        "id": "pFmbx-4G1Gyn",
        "colab_type": "code",
        "colab": {}
      },
      "source": [
        " x = torch.rand(2,2)"
      ],
      "execution_count": 0,
      "outputs": []
    },
    {
      "cell_type": "code",
      "metadata": {
        "id": "NcVJSYf31XE1",
        "colab_type": "code",
        "outputId": "fb61f20c-04cf-4433-e12b-c45c4f2e0b3c",
        "colab": {
          "base_uri": "https://localhost:8080/",
          "height": 51
        }
      },
      "source": [
        "torch.ones(2,2)"
      ],
      "execution_count": 6,
      "outputs": [
        {
          "output_type": "execute_result",
          "data": {
            "text/plain": [
              "tensor([[1., 1.],\n",
              "        [1., 1.]])"
            ]
          },
          "metadata": {
            "tags": []
          },
          "execution_count": 6
        }
      ]
    },
    {
      "cell_type": "code",
      "metadata": {
        "id": "sNJQ0O7n1ZqL",
        "colab_type": "code",
        "outputId": "e16b3f8d-9831-417a-d4dd-b692900c5249",
        "colab": {
          "base_uri": "https://localhost:8080/",
          "height": 51
        }
      },
      "source": [
        "torch.zeros(2,2)"
      ],
      "execution_count": 7,
      "outputs": [
        {
          "output_type": "execute_result",
          "data": {
            "text/plain": [
              "tensor([[0., 0.],\n",
              "        [0., 0.]])"
            ]
          },
          "metadata": {
            "tags": []
          },
          "execution_count": 7
        }
      ]
    },
    {
      "cell_type": "code",
      "metadata": {
        "id": "qiJaU8Sf1a57",
        "colab_type": "code",
        "outputId": "bc050d79-061b-4556-8d54-a6266f60be1d",
        "colab": {
          "base_uri": "https://localhost:8080/",
          "height": 34
        }
      },
      "source": [
        "x = torch.ones(2,2,dtype=torch.int)\n",
        "x.dtype"
      ],
      "execution_count": 8,
      "outputs": [
        {
          "output_type": "execute_result",
          "data": {
            "text/plain": [
              "torch.int32"
            ]
          },
          "metadata": {
            "tags": []
          },
          "execution_count": 8
        }
      ]
    },
    {
      "cell_type": "code",
      "metadata": {
        "id": "NkjGI_qd1jBU",
        "colab_type": "code",
        "outputId": "0778934a-cd08-4f19-a9d5-36e0f6ea797d",
        "colab": {
          "base_uri": "https://localhost:8080/",
          "height": 34
        }
      },
      "source": [
        "x = torch.ones(2,2,dtype=torch.double)\n",
        "x.dtype"
      ],
      "execution_count": 9,
      "outputs": [
        {
          "output_type": "execute_result",
          "data": {
            "text/plain": [
              "torch.float64"
            ]
          },
          "metadata": {
            "tags": []
          },
          "execution_count": 9
        }
      ]
    },
    {
      "cell_type": "code",
      "metadata": {
        "id": "To5nlUkZ1yqM",
        "colab_type": "code",
        "outputId": "b32adc29-dbc2-4111-e182-6ffbac3acfea",
        "colab": {
          "base_uri": "https://localhost:8080/",
          "height": 34
        }
      },
      "source": [
        "x = torch.ones(2,2,dtype=torch.float16)\n",
        "x.dtype"
      ],
      "execution_count": 10,
      "outputs": [
        {
          "output_type": "execute_result",
          "data": {
            "text/plain": [
              "torch.float16"
            ]
          },
          "metadata": {
            "tags": []
          },
          "execution_count": 10
        }
      ]
    },
    {
      "cell_type": "code",
      "metadata": {
        "id": "gCm-o_il118g",
        "colab_type": "code",
        "outputId": "18254dfc-12e3-42be-b0ee-00cacf87aa4e",
        "colab": {
          "base_uri": "https://localhost:8080/",
          "height": 34
        }
      },
      "source": [
        "x.size()"
      ],
      "execution_count": 11,
      "outputs": [
        {
          "output_type": "execute_result",
          "data": {
            "text/plain": [
              "torch.Size([2, 2])"
            ]
          },
          "metadata": {
            "tags": []
          },
          "execution_count": 11
        }
      ]
    },
    {
      "cell_type": "code",
      "metadata": {
        "id": "6gLPl2Vm16Ud",
        "colab_type": "code",
        "outputId": "4f2e5e86-c0bf-42c0-86e9-bc4c5b959330",
        "colab": {
          "base_uri": "https://localhost:8080/",
          "height": 85
        }
      },
      "source": [
        "x = torch.rand(2,2)\n",
        "y = torch.rand(2,2)\n",
        "print(x)\n",
        "print(y)"
      ],
      "execution_count": 12,
      "outputs": [
        {
          "output_type": "stream",
          "text": [
            "tensor([[0.7983, 0.1339],\n",
            "        [0.3994, 0.6033]])\n",
            "tensor([[0.6447, 0.0109],\n",
            "        [0.6600, 0.8870]])\n"
          ],
          "name": "stdout"
        }
      ]
    },
    {
      "cell_type": "markdown",
      "metadata": {
        "id": "lzngSfab5oL-",
        "colab_type": "text"
      },
      "source": [
        "Operations"
      ]
    },
    {
      "cell_type": "code",
      "metadata": {
        "id": "iw_MndPM2Gtm",
        "colab_type": "code",
        "outputId": "dea228cb-f184-4784-93c2-35c00fe24cbe",
        "colab": {
          "base_uri": "https://localhost:8080/",
          "height": 51
        }
      },
      "source": [
        "z = x + y\n",
        "z"
      ],
      "execution_count": 13,
      "outputs": [
        {
          "output_type": "execute_result",
          "data": {
            "text/plain": [
              "tensor([[1.4430, 0.1448],\n",
              "        [1.0594, 1.4903]])"
            ]
          },
          "metadata": {
            "tags": []
          },
          "execution_count": 13
        }
      ]
    },
    {
      "cell_type": "code",
      "metadata": {
        "id": "WxZg3uNT2H_7",
        "colab_type": "code",
        "outputId": "41bb72a6-f08d-4824-e2c6-736db427b04e",
        "colab": {
          "base_uri": "https://localhost:8080/",
          "height": 51
        }
      },
      "source": [
        "#or\n",
        "torch.add(x,y)"
      ],
      "execution_count": 14,
      "outputs": [
        {
          "output_type": "execute_result",
          "data": {
            "text/plain": [
              "tensor([[1.4430, 0.1448],\n",
              "        [1.0594, 1.4903]])"
            ]
          },
          "metadata": {
            "tags": []
          },
          "execution_count": 14
        }
      ]
    },
    {
      "cell_type": "code",
      "metadata": {
        "id": "GPqorc-Q2Ml9",
        "colab_type": "code",
        "outputId": "1a7b0632-7413-48d8-b015-aed4a3e13416",
        "colab": {
          "base_uri": "https://localhost:8080/",
          "height": 51
        }
      },
      "source": [
        "#inplace\n",
        "y.add_(x)"
      ],
      "execution_count": 15,
      "outputs": [
        {
          "output_type": "execute_result",
          "data": {
            "text/plain": [
              "tensor([[1.4430, 0.1448],\n",
              "        [1.0594, 1.4903]])"
            ]
          },
          "metadata": {
            "tags": []
          },
          "execution_count": 15
        }
      ]
    },
    {
      "cell_type": "code",
      "metadata": {
        "id": "IddEcad-4m89",
        "colab_type": "code",
        "outputId": "75438614-8e26-442e-bd70-f38238902358",
        "colab": {
          "base_uri": "https://localhost:8080/",
          "height": 51
        }
      },
      "source": [
        "x -y"
      ],
      "execution_count": 16,
      "outputs": [
        {
          "output_type": "execute_result",
          "data": {
            "text/plain": [
              "tensor([[-0.6447, -0.0109],\n",
              "        [-0.6600, -0.8870]])"
            ]
          },
          "metadata": {
            "tags": []
          },
          "execution_count": 16
        }
      ]
    },
    {
      "cell_type": "code",
      "metadata": {
        "id": "GKM_u2Ic4w8u",
        "colab_type": "code",
        "outputId": "0e37f4cd-2cd7-4442-fef6-1450078202b2",
        "colab": {
          "base_uri": "https://localhost:8080/",
          "height": 51
        }
      },
      "source": [
        "torch.sub(x,y)"
      ],
      "execution_count": 17,
      "outputs": [
        {
          "output_type": "execute_result",
          "data": {
            "text/plain": [
              "tensor([[-0.6447, -0.0109],\n",
              "        [-0.6600, -0.8870]])"
            ]
          },
          "metadata": {
            "tags": []
          },
          "execution_count": 17
        }
      ]
    },
    {
      "cell_type": "code",
      "metadata": {
        "id": "sXHhUs1d4zAy",
        "colab_type": "code",
        "outputId": "35af1bd6-e16b-4f61-f74a-5860f4e3cfc0",
        "colab": {
          "base_uri": "https://localhost:8080/",
          "height": 51
        }
      },
      "source": [
        "x.sub_(y)"
      ],
      "execution_count": 18,
      "outputs": [
        {
          "output_type": "execute_result",
          "data": {
            "text/plain": [
              "tensor([[-0.6447, -0.0109],\n",
              "        [-0.6600, -0.8870]])"
            ]
          },
          "metadata": {
            "tags": []
          },
          "execution_count": 18
        }
      ]
    },
    {
      "cell_type": "code",
      "metadata": {
        "id": "n8iSll4J42kM",
        "colab_type": "code",
        "outputId": "05d17c1e-0378-4fc7-9d28-5f160c007cdf",
        "colab": {
          "base_uri": "https://localhost:8080/",
          "height": 51
        }
      },
      "source": [
        "x*y"
      ],
      "execution_count": 19,
      "outputs": [
        {
          "output_type": "execute_result",
          "data": {
            "text/plain": [
              "tensor([[-0.9303, -0.0016],\n",
              "        [-0.6993, -1.3219]])"
            ]
          },
          "metadata": {
            "tags": []
          },
          "execution_count": 19
        }
      ]
    },
    {
      "cell_type": "code",
      "metadata": {
        "id": "KFhUP8jH44Xp",
        "colab_type": "code",
        "outputId": "a385a14a-7aca-447a-db2e-0ab42c3c83e4",
        "colab": {
          "base_uri": "https://localhost:8080/",
          "height": 51
        }
      },
      "source": [
        "torch.mul(x,y)"
      ],
      "execution_count": 20,
      "outputs": [
        {
          "output_type": "execute_result",
          "data": {
            "text/plain": [
              "tensor([[-0.9303, -0.0016],\n",
              "        [-0.6993, -1.3219]])"
            ]
          },
          "metadata": {
            "tags": []
          },
          "execution_count": 20
        }
      ]
    },
    {
      "cell_type": "code",
      "metadata": {
        "id": "-y3DHbqp4939",
        "colab_type": "code",
        "outputId": "7b54d31f-b357-4dd3-8025-fd9f78ee00f8",
        "colab": {
          "base_uri": "https://localhost:8080/",
          "height": 51
        }
      },
      "source": [
        "y.mul_(x)"
      ],
      "execution_count": 21,
      "outputs": [
        {
          "output_type": "execute_result",
          "data": {
            "text/plain": [
              "tensor([[-0.9303, -0.0016],\n",
              "        [-0.6993, -1.3219]])"
            ]
          },
          "metadata": {
            "tags": []
          },
          "execution_count": 21
        }
      ]
    },
    {
      "cell_type": "code",
      "metadata": {
        "id": "l0DK5sbG5Ta3",
        "colab_type": "code",
        "outputId": "071c21c8-a501-40bd-d67d-497f94a4c6dd",
        "colab": {
          "base_uri": "https://localhost:8080/",
          "height": 51
        }
      },
      "source": [
        "x/y"
      ],
      "execution_count": 22,
      "outputs": [
        {
          "output_type": "execute_result",
          "data": {
            "text/plain": [
              "tensor([[0.6930, 6.9080],\n",
              "        [0.9439, 0.6710]])"
            ]
          },
          "metadata": {
            "tags": []
          },
          "execution_count": 22
        }
      ]
    },
    {
      "cell_type": "code",
      "metadata": {
        "id": "XU7qIecl5U1K",
        "colab_type": "code",
        "outputId": "a313c8e5-aadc-4200-91ba-18ba9424dab6",
        "colab": {
          "base_uri": "https://localhost:8080/",
          "height": 51
        }
      },
      "source": [
        "torch.div(x,y)"
      ],
      "execution_count": 23,
      "outputs": [
        {
          "output_type": "execute_result",
          "data": {
            "text/plain": [
              "tensor([[0.6930, 6.9080],\n",
              "        [0.9439, 0.6710]])"
            ]
          },
          "metadata": {
            "tags": []
          },
          "execution_count": 23
        }
      ]
    },
    {
      "cell_type": "code",
      "metadata": {
        "id": "AnObDP_U5XNn",
        "colab_type": "code",
        "outputId": "2ddfaeb5-ffdb-43b1-8e1a-0726049386c1",
        "colab": {
          "base_uri": "https://localhost:8080/",
          "height": 51
        }
      },
      "source": [
        "x.div_(y)"
      ],
      "execution_count": 24,
      "outputs": [
        {
          "output_type": "execute_result",
          "data": {
            "text/plain": [
              "tensor([[0.6930, 6.9080],\n",
              "        [0.9439, 0.6710]])"
            ]
          },
          "metadata": {
            "tags": []
          },
          "execution_count": 24
        }
      ]
    },
    {
      "cell_type": "code",
      "metadata": {
        "id": "e_-Xx9WL5ZnG",
        "colab_type": "code",
        "outputId": "029b1684-15f7-497d-899d-2f13aba0a345",
        "colab": {
          "base_uri": "https://localhost:8080/",
          "height": 102
        }
      },
      "source": [
        "x = torch.rand(5,3)\n",
        "x"
      ],
      "execution_count": 25,
      "outputs": [
        {
          "output_type": "execute_result",
          "data": {
            "text/plain": [
              "tensor([[0.7191, 0.3088, 0.7626],\n",
              "        [0.3946, 0.6164, 0.9305],\n",
              "        [0.4462, 0.5365, 0.0884],\n",
              "        [0.2932, 0.3775, 0.9297],\n",
              "        [0.7728, 0.3319, 0.9065]])"
            ]
          },
          "metadata": {
            "tags": []
          },
          "execution_count": 25
        }
      ]
    },
    {
      "cell_type": "markdown",
      "metadata": {
        "id": "LTNEmkNw5jr1",
        "colab_type": "text"
      },
      "source": [
        "Transformation"
      ]
    },
    {
      "cell_type": "code",
      "metadata": {
        "id": "7lPybTCz5di9",
        "colab_type": "code",
        "outputId": "ddebf073-3760-4c9c-a393-fca11cefc43f",
        "colab": {
          "base_uri": "https://localhost:8080/",
          "height": 34
        }
      },
      "source": [
        "x[:,0]"
      ],
      "execution_count": 26,
      "outputs": [
        {
          "output_type": "execute_result",
          "data": {
            "text/plain": [
              "tensor([0.7191, 0.3946, 0.4462, 0.2932, 0.7728])"
            ]
          },
          "metadata": {
            "tags": []
          },
          "execution_count": 26
        }
      ]
    },
    {
      "cell_type": "code",
      "metadata": {
        "id": "OA8Z2XrT5hCM",
        "colab_type": "code",
        "outputId": "b1f8ef20-1a99-461f-c06c-0b0e3f6bafef",
        "colab": {
          "base_uri": "https://localhost:8080/",
          "height": 34
        }
      },
      "source": [
        "x[1,1]"
      ],
      "execution_count": 27,
      "outputs": [
        {
          "output_type": "execute_result",
          "data": {
            "text/plain": [
              "tensor(0.6164)"
            ]
          },
          "metadata": {
            "tags": []
          },
          "execution_count": 27
        }
      ]
    },
    {
      "cell_type": "code",
      "metadata": {
        "id": "ZbSIvOI65x5y",
        "colab_type": "code",
        "outputId": "a5e163f9-1c40-4a19-a433-0994258329b1",
        "colab": {
          "base_uri": "https://localhost:8080/",
          "height": 34
        }
      },
      "source": [
        "#actual value\n",
        "x[1,1].item()"
      ],
      "execution_count": 28,
      "outputs": [
        {
          "output_type": "execute_result",
          "data": {
            "text/plain": [
              "0.6163697242736816"
            ]
          },
          "metadata": {
            "tags": []
          },
          "execution_count": 28
        }
      ]
    },
    {
      "cell_type": "code",
      "metadata": {
        "id": "6m0lbplu54qV",
        "colab_type": "code",
        "outputId": "a042a57f-242a-4ba8-f142-06a59982881d",
        "colab": {
          "base_uri": "https://localhost:8080/",
          "height": 85
        }
      },
      "source": [
        "x=torch.rand(4,4)\n",
        "x"
      ],
      "execution_count": 29,
      "outputs": [
        {
          "output_type": "execute_result",
          "data": {
            "text/plain": [
              "tensor([[0.7760, 0.0621, 0.0549, 0.3143],\n",
              "        [0.8360, 0.3516, 0.4567, 0.1362],\n",
              "        [0.3643, 0.6684, 0.8201, 0.1660],\n",
              "        [0.5098, 0.6236, 0.0025, 0.4908]])"
            ]
          },
          "metadata": {
            "tags": []
          },
          "execution_count": 29
        }
      ]
    },
    {
      "cell_type": "markdown",
      "metadata": {
        "id": "ri5pl2_j6Qed",
        "colab_type": "text"
      },
      "source": [
        "Re-sizing"
      ]
    },
    {
      "cell_type": "code",
      "metadata": {
        "id": "8-3VXbVZ5-2O",
        "colab_type": "code",
        "outputId": "6a993d95-57b3-4393-f810-7693f125afb3",
        "colab": {
          "base_uri": "https://localhost:8080/",
          "height": 51
        }
      },
      "source": [
        "x.view(-1,8)"
      ],
      "execution_count": 30,
      "outputs": [
        {
          "output_type": "execute_result",
          "data": {
            "text/plain": [
              "tensor([[0.7760, 0.0621, 0.0549, 0.3143, 0.8360, 0.3516, 0.4567, 0.1362],\n",
              "        [0.3643, 0.6684, 0.8201, 0.1660, 0.5098, 0.6236, 0.0025, 0.4908]])"
            ]
          },
          "metadata": {
            "tags": []
          },
          "execution_count": 30
        }
      ]
    },
    {
      "cell_type": "code",
      "metadata": {
        "id": "nV6qaoN36CVW",
        "colab_type": "code",
        "outputId": "33eb8049-f5e1-4c5a-c59a-870a8181677c",
        "colab": {
          "base_uri": "https://localhost:8080/",
          "height": 34
        }
      },
      "source": [
        "x.view(-1,8).size()"
      ],
      "execution_count": 31,
      "outputs": [
        {
          "output_type": "execute_result",
          "data": {
            "text/plain": [
              "torch.Size([2, 8])"
            ]
          },
          "metadata": {
            "tags": []
          },
          "execution_count": 31
        }
      ]
    },
    {
      "cell_type": "markdown",
      "metadata": {
        "id": "R0PDnQcQ6_cc",
        "colab_type": "text"
      },
      "source": [
        "torch => np"
      ]
    },
    {
      "cell_type": "code",
      "metadata": {
        "id": "iLJ5GMmo6Nlm",
        "colab_type": "code",
        "colab": {}
      },
      "source": [
        "import numpy as np"
      ],
      "execution_count": 0,
      "outputs": []
    },
    {
      "cell_type": "code",
      "metadata": {
        "id": "mQNOPspn6-uW",
        "colab_type": "code",
        "colab": {}
      },
      "source": [
        "a = torch.ones(5)\n",
        "a\n",
        "b = a.numpy()"
      ],
      "execution_count": 0,
      "outputs": []
    },
    {
      "cell_type": "code",
      "metadata": {
        "id": "jpd_bjJF7Eq0",
        "colab_type": "code",
        "outputId": "aa3408a7-0f91-42c3-a4a2-f7c7d38b9d5a",
        "colab": {
          "base_uri": "https://localhost:8080/",
          "height": 34
        }
      },
      "source": [
        "print(b)"
      ],
      "execution_count": 34,
      "outputs": [
        {
          "output_type": "stream",
          "text": [
            "[1. 1. 1. 1. 1.]\n"
          ],
          "name": "stdout"
        }
      ]
    },
    {
      "cell_type": "code",
      "metadata": {
        "id": "WcCywTK-7Qqc",
        "colab_type": "code",
        "outputId": "39c81a2f-d0b2-4df3-cdb3-f0ee526bb7c7",
        "colab": {
          "base_uri": "https://localhost:8080/",
          "height": 34
        }
      },
      "source": [
        "a.add_(1)"
      ],
      "execution_count": 35,
      "outputs": [
        {
          "output_type": "execute_result",
          "data": {
            "text/plain": [
              "tensor([2., 2., 2., 2., 2.])"
            ]
          },
          "metadata": {
            "tags": []
          },
          "execution_count": 35
        }
      ]
    },
    {
      "cell_type": "code",
      "metadata": {
        "id": "wZwIXdQS7Tl9",
        "colab_type": "code",
        "outputId": "c257f1e6-489e-4301-f466-ac7cd93ae95f",
        "colab": {
          "base_uri": "https://localhost:8080/",
          "height": 34
        }
      },
      "source": [
        "b"
      ],
      "execution_count": 36,
      "outputs": [
        {
          "output_type": "execute_result",
          "data": {
            "text/plain": [
              "array([2., 2., 2., 2., 2.], dtype=float32)"
            ]
          },
          "metadata": {
            "tags": []
          },
          "execution_count": 36
        }
      ]
    },
    {
      "cell_type": "code",
      "metadata": {
        "id": "AVXt8mZwxHBl",
        "colab_type": "code",
        "colab": {}
      },
      "source": [
        ""
      ],
      "execution_count": 0,
      "outputs": []
    },
    {
      "cell_type": "markdown",
      "metadata": {
        "id": "w-UeptwFxEnN",
        "colab_type": "text"
      },
      "source": [
        "np => torch"
      ]
    },
    {
      "cell_type": "code",
      "metadata": {
        "colab_type": "code",
        "outputId": "93317d87-bbd3-44dd-976a-ce629270a623",
        "id": "WbkiABsxxU98",
        "colab": {
          "base_uri": "https://localhost:8080/",
          "height": 34
        }
      },
      "source": [
        "a = np.ones(5)\n",
        "b = torch.from_numpy(a)\n",
        "b"
      ],
      "execution_count": 0,
      "outputs": [
        {
          "output_type": "execute_result",
          "data": {
            "text/plain": [
              "tensor([1., 1., 1., 1., 1.], dtype=torch.float64)"
            ]
          },
          "metadata": {
            "tags": []
          },
          "execution_count": 37
        }
      ]
    },
    {
      "cell_type": "code",
      "metadata": {
        "id": "4xto__jb7nHi",
        "colab_type": "code",
        "outputId": "ac204b28-dac1-4d19-a326-415b8b62312a",
        "colab": {
          "base_uri": "https://localhost:8080/",
          "height": 34
        }
      },
      "source": [
        "b"
      ],
      "execution_count": 38,
      "outputs": [
        {
          "output_type": "execute_result",
          "data": {
            "text/plain": [
              "tensor([1., 1., 1., 1., 1.], dtype=torch.float64)"
            ]
          },
          "metadata": {
            "tags": []
          },
          "execution_count": 38
        }
      ]
    },
    {
      "cell_type": "code",
      "metadata": {
        "id": "46aLCR2T7n06",
        "colab_type": "code",
        "outputId": "7a13e146-379b-4cbe-ba1c-ba904cc97ca3",
        "colab": {
          "base_uri": "https://localhost:8080/",
          "height": 34
        }
      },
      "source": [
        "x = torch.ones(5,requires_grad = True)\n",
        "x"
      ],
      "execution_count": 39,
      "outputs": [
        {
          "output_type": "execute_result",
          "data": {
            "text/plain": [
              "tensor([1., 1., 1., 1., 1.], requires_grad=True)"
            ]
          },
          "metadata": {
            "tags": []
          },
          "execution_count": 39
        }
      ]
    }
  ]
}
