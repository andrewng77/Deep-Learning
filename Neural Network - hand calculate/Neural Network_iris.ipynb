{
 "cells": [
  {
   "cell_type": "markdown",
   "metadata": {},
   "source": [
    "# Neural Network \n",
    "### forward and backword propagation handcoded using python"
   ]
  },
  {
   "cell_type": "code",
   "execution_count": 1,
   "metadata": {},
   "outputs": [],
   "source": [
    "#inspired by https://www.youtube.com/watch?v=LSr96IZQknc\n",
    "\n",
    "import numpy as np\n",
    "import pandas as pd\n",
    "import matplotlib.pyplot as plt\n",
    "\n",
    "from sklearn.datasets import load_iris\n",
    "from sklearn.model_selection import train_test_split\n",
    "\n",
    "%matplotlib inline"
   ]
  },
  {
   "cell_type": "code",
   "execution_count": 11,
   "metadata": {},
   "outputs": [],
   "source": [
    "#we will be using iris dataset for binary classification\n",
    "#instead of the 10 row variable from the youtube video\n",
    "\n",
    "data = load_iris()\n",
    "df=pd.DataFrame(data.data)\n",
    "\n",
    "#include target variable to the DF\n",
    "df[4]=data.target\n",
    "\n",
    "#use only the first 100 as we want to predict 1,0\n",
    "df=df.head(100)"
   ]
  },
  {
   "cell_type": "code",
   "execution_count": 103,
   "metadata": {},
   "outputs": [],
   "source": [
    "#pareto rule 80:20\n",
    "ind_train=df.sample(80).index\n",
    "\n",
    "train = df[df.index.isin(ind_train.values)].values\n",
    "test  = df[~df.index.isin(ind_train.values)].values"
   ]
  },
  {
   "cell_type": "code",
   "execution_count": 104,
   "metadata": {
    "scrolled": true
   },
   "outputs": [
    {
     "data": {
      "text/plain": [
       "array([[5.1, 3.5, 1.4, 0.2, 0. ],\n",
       "       [4.9, 3. , 1.4, 0.2, 0. ],\n",
       "       [4.7, 3.2, 1.3, 0.2, 0. ],\n",
       "       [4.6, 3.1, 1.5, 0.2, 0. ],\n",
       "       [5. , 3.6, 1.4, 0.2, 0. ],\n",
       "       [5.4, 3.9, 1.7, 0.4, 0. ],\n",
       "       [4.6, 3.4, 1.4, 0.3, 0. ],\n",
       "       [5. , 3.4, 1.5, 0.2, 0. ],\n",
       "       [4.4, 2.9, 1.4, 0.2, 0. ],\n",
       "       [4.9, 3.1, 1.5, 0.1, 0. ]])"
      ]
     },
     "execution_count": 104,
     "metadata": {},
     "output_type": "execute_result"
    }
   ],
   "source": [
    "#mixture of 0s and 1s for train set \n",
    "train[:10]"
   ]
  },
  {
   "cell_type": "code",
   "execution_count": 105,
   "metadata": {},
   "outputs": [
    {
     "data": {
      "text/plain": [
       "array([[6. , 3.4, 4.5, 1.6, 1. ],\n",
       "       [6.3, 2.3, 4.4, 1.3, 1. ],\n",
       "       [5.6, 3. , 4.1, 1.3, 1. ],\n",
       "       [5.5, 2.5, 4. , 1.3, 1. ],\n",
       "       [5.5, 2.6, 4.4, 1.2, 1. ],\n",
       "       [6.1, 3. , 4.6, 1.4, 1. ],\n",
       "       [5.8, 2.6, 4. , 1.2, 1. ],\n",
       "       [5. , 2.3, 3.3, 1. , 1. ],\n",
       "       [5.7, 2.9, 4.2, 1.3, 1. ],\n",
       "       [5.1, 2.5, 3. , 1.1, 1. ]])"
      ]
     },
     "execution_count": 105,
     "metadata": {},
     "output_type": "execute_result"
    }
   ],
   "source": [
    "train[-11:-1]"
   ]
  },
  {
   "cell_type": "code",
   "execution_count": 106,
   "metadata": {},
   "outputs": [
    {
     "data": {
      "text/plain": [
       "array([[4.8, 3.4, 1.6, 0.2, 0. ],\n",
       "       [5.7, 4.4, 1.5, 0.4, 0. ],\n",
       "       [5.1, 3.5, 1.4, 0.3, 0. ],\n",
       "       [4.7, 3.2, 1.6, 0.2, 0. ],\n",
       "       [4.8, 3.1, 1.6, 0.2, 0. ],\n",
       "       [5.2, 4.1, 1.5, 0.1, 0. ],\n",
       "       [5. , 3.5, 1.3, 0.3, 0. ],\n",
       "       [4.6, 3.2, 1.4, 0.2, 0. ],\n",
       "       [6.9, 3.1, 4.9, 1.5, 1. ],\n",
       "       [4.9, 2.4, 3.3, 1. , 1. ],\n",
       "       [5.9, 3. , 4.2, 1.5, 1. ],\n",
       "       [5.6, 3. , 4.5, 1.5, 1. ],\n",
       "       [5.6, 2.5, 3.9, 1.1, 1. ],\n",
       "       [6.3, 2.5, 4.9, 1.5, 1. ],\n",
       "       [6.6, 3. , 4.4, 1.4, 1. ],\n",
       "       [5.8, 2.7, 3.9, 1.2, 1. ],\n",
       "       [6.7, 3.1, 4.7, 1.5, 1. ],\n",
       "       [5.6, 2.7, 4.2, 1.3, 1. ],\n",
       "       [5.7, 3. , 4.2, 1.2, 1. ],\n",
       "       [6.2, 2.9, 4.3, 1.3, 1. ]])"
      ]
     },
     "execution_count": 106,
     "metadata": {},
     "output_type": "execute_result"
    }
   ],
   "source": [
    "#mixture of 0s and 1s to predit\n",
    "test"
   ]
  },
  {
   "cell_type": "code",
   "execution_count": 107,
   "metadata": {},
   "outputs": [
    {
     "name": "stdout",
     "output_type": "stream",
     "text": [
      "80\n",
      "20\n"
     ]
    }
   ],
   "source": [
    "#Shape of out Train and Test\n",
    "print(len(train))\n",
    "print(len(test))"
   ]
  },
  {
   "cell_type": "code",
   "execution_count": 108,
   "metadata": {},
   "outputs": [],
   "source": [
    "#function for sigmoid activation\n",
    "\n",
    "def sigmoid(x):\n",
    "    return 1/(1+np.exp(-x))\n",
    "\n",
    "#sigmoid prime\n",
    "def sigmoid_p(x): \n",
    "    return sigmoid(x)* ( 1 - sigmoid(x))"
   ]
  },
  {
   "cell_type": "markdown",
   "metadata": {},
   "source": [
    "<img src=\"images/latex.png\">"
   ]
  },
  {
   "cell_type": "code",
   "execution_count": 109,
   "metadata": {},
   "outputs": [
    {
     "data": {
      "text/plain": [
       "array([0.00669285, 0.00819568, 0.01003256, 0.01227603, 0.01501357,\n",
       "       0.01835024, 0.0224116 , 0.02734679, 0.03333169, 0.04057176,\n",
       "       0.04930426, 0.05979915, 0.07235796, 0.0873094 , 0.10500059,\n",
       "       0.12578244, 0.14998817, 0.17790412, 0.20973382, 0.24555731,\n",
       "       0.28529068, 0.32865255, 0.37514569, 0.42406149, 0.47451191,\n",
       "       0.52548809, 0.57593851, 0.62485431, 0.67134745, 0.71470932,\n",
       "       0.75444269, 0.79026618, 0.82209588, 0.85001183, 0.87421756,\n",
       "       0.89499941, 0.9126906 , 0.92764204, 0.94020085, 0.95069574,\n",
       "       0.95942824, 0.96666831, 0.97265321, 0.9775884 , 0.98164976,\n",
       "       0.98498643, 0.98772397, 0.98996744, 0.99180432, 0.99330715])"
      ]
     },
     "execution_count": 109,
     "metadata": {},
     "output_type": "execute_result"
    }
   ],
   "source": [
    "T = np.linspace( -5,5,50) # from -5 to 5 with 50 subdivisions\n",
    "sigmoid(T) #it can be observed that sigmoid converts all T to between( 0 and 1)"
   ]
  },
  {
   "cell_type": "code",
   "execution_count": 110,
   "metadata": {},
   "outputs": [
    {
     "data": {
      "image/png": "[encoded data removed]",
      "text/plain": [
       "<Figure size 432x288 with 1 Axes>"
      ]
     },
     "metadata": {
      "needs_background": "light"
     },
     "output_type": "display_data"
    }
   ],
   "source": [
    "plt.plot(T,sigmoid(T),c='r')\n",
    "plt.plot(T,sigmoid_p(T),c='b');"
   ]
  },
  {
   "cell_type": "code",
   "execution_count": 111,
   "metadata": {},
   "outputs": [],
   "source": [
    "#training loop\n",
    "\n",
    "def training():\n",
    "    \n",
    "    #randomly assigns w1,w2,w3,w4,b\n",
    "    \n",
    "    w1= np.random.randn() #weight 1\n",
    "    w2= np.random.randn() #weight 2\n",
    "    w3= np.random.randn() #weight 3\n",
    "    w4= np.random.randn() #weight 4\n",
    "    b = np.random.randn() #bias\n",
    "    \n",
    "    iterations = 10000 #need to tweak abit\n",
    "    learning_rate = 0.005 #need to tweak abit\n",
    "    costs = [] # keep costs during training, see if they go down\n",
    "\n",
    "    for i in range(iterations):\n",
    "        #get a randon point\n",
    "        ri= np.random.randint(len(train))\n",
    "        point=train[ri] #bootstrap 140x from the train data\n",
    "        \n",
    "        #forward propagation\n",
    "        z= w1*point[0] + w2*point[1] + w3*point[2]++ w4*point[3] + b\n",
    "        pred = sigmoid(z) #activate z\n",
    "    \n",
    "        target = point[4]\n",
    "        \n",
    "        # cost for current random point\n",
    "        cost = ( pred-target ) **2\n",
    "        \n",
    "    # print the cost over all data points every 100 iters\n",
    "        if i % 100 == 0:\n",
    "            c = 0\n",
    "            for j in range(len(train)):\n",
    "                p = train[j]\n",
    "                p_pred = sigmoid(w1 * p[0] + w2 * p[1] + w3 * p[2] + w4 * p[3] + b)\n",
    "                c += np.square(p_pred - p[4])\n",
    "            costs.append(c)\n",
    "\n",
    "        #backpropagation\n",
    "        dcost_pred = 2 * ( pred - target) *(1) #differentiate cost= ( pred-target ) **2\n",
    "        dpred_dz = sigmoid_p(z) \n",
    "    \n",
    "        dz_dw1 = point[0]\n",
    "        dz_dw2 = point[1]\n",
    "        dz_dw3 = point[2]\n",
    "        dz_dw4 = point[3]\n",
    "        dz_db = 1\n",
    "\n",
    "        dcost_dw1 = dcost_pred * dpred_dz * dz_dw1\n",
    "        dcost_dw2 = dcost_pred * dpred_dz * dz_dw2\n",
    "        dcost_dw3 = dcost_pred * dpred_dz * dz_dw3\n",
    "        dcost_dw4 = dcost_pred * dpred_dz * dz_dw4\n",
    "        dcost_db  = dcost_pred * dpred_dz * dz_db\n",
    "\n",
    "        w1 = w1 - learning_rate * dcost_dw1\n",
    "        w2 = w2 - learning_rate * dcost_dw2\n",
    "        w3 = w3 - learning_rate * dcost_dw3\n",
    "        w4 = w4 - learning_rate * dcost_dw4\n",
    "        b =  b  - learning_rate * dcost_db\n",
    "\n",
    "    return costs,w1,w2,w3,w4,b\n",
    "\n"
   ]
  },
  {
   "cell_type": "code",
   "execution_count": 112,
   "metadata": {},
   "outputs": [
    {
     "data": {
      "image/png": "[encoded data removed]",
      "text/plain": [
       "<Figure size 432x288 with 1 Axes>"
      ]
     },
     "metadata": {
      "needs_background": "light"
     },
     "output_type": "display_data"
    }
   ],
   "source": [
    "costs,w1,w2,w3,w4,b = training()\n",
    "\n",
    "plt.plot(costs)\n",
    "plt.title('Costs vs iteration')\n",
    "plt.xlabel('# of iteration in ,00')\n",
    "plt.ylabel('Costs');"
   ]
  },
  {
   "cell_type": "code",
   "execution_count": 114,
   "metadata": {},
   "outputs": [
    {
     "name": "stdout",
     "output_type": "stream",
     "text": [
      "if close to 0 -> class 0, close to 1 -> class 1\n",
      "predict, absolute value : 0.0526024931938017\n",
      "predict(rounded value) : 0.0\n",
      "actual : 0.0\n",
      "\n",
      "\n",
      "if close to 0 -> class 0, close to 1 -> class 1\n",
      "predict, absolute value : 0.010278822216377189\n",
      "predict(rounded value) : 0.0\n",
      "actual : 0.0\n",
      "\n",
      "\n",
      "if close to 0 -> class 0, close to 1 -> class 1\n",
      "predict, absolute value : 0.03964809059106541\n",
      "predict(rounded value) : 0.0\n",
      "actual : 0.0\n",
      "\n",
      "\n",
      "if close to 0 -> class 0, close to 1 -> class 1\n",
      "predict, absolute value : 0.07389981692935374\n",
      "predict(rounded value) : 0.0\n",
      "actual : 0.0\n",
      "\n",
      "\n",
      "if close to 0 -> class 0, close to 1 -> class 1\n",
      "predict, absolute value : 0.09171504754348345\n",
      "predict(rounded value) : 0.0\n",
      "actual : 0.0\n",
      "\n",
      "\n",
      "if close to 0 -> class 0, close to 1 -> class 1\n",
      "predict, absolute value : 0.012865440627346904\n",
      "predict(rounded value) : 0.0\n",
      "actual : 0.0\n",
      "\n",
      "\n",
      "if close to 0 -> class 0, close to 1 -> class 1\n",
      "predict, absolute value : 0.03364628730370013\n",
      "predict(rounded value) : 0.0\n",
      "actual : 0.0\n",
      "\n",
      "\n",
      "if close to 0 -> class 0, close to 1 -> class 1\n",
      "predict, absolute value : 0.055568151745264395\n",
      "predict(rounded value) : 0.0\n",
      "actual : 0.0\n",
      "\n",
      "\n",
      "if close to 0 -> class 0, close to 1 -> class 1\n",
      "predict, absolute value : 0.9764253339084613\n",
      "predict(rounded value) : 1.0\n",
      "actual : 1.0\n",
      "\n",
      "\n",
      "if close to 0 -> class 0, close to 1 -> class 1\n",
      "predict, absolute value : 0.8733771250004262\n",
      "predict(rounded value) : 1.0\n",
      "actual : 1.0\n",
      "\n",
      "\n",
      "if close to 0 -> class 0, close to 1 -> class 1\n",
      "predict, absolute value : 0.932287960487331\n",
      "predict(rounded value) : 1.0\n",
      "actual : 1.0\n",
      "\n",
      "\n",
      "if close to 0 -> class 0, close to 1 -> class 1\n",
      "predict, absolute value : 0.9486927650071352\n",
      "predict(rounded value) : 1.0\n",
      "actual : 1.0\n",
      "\n",
      "\n",
      "if close to 0 -> class 0, close to 1 -> class 1\n",
      "predict, absolute value : 0.945507433231211\n",
      "predict(rounded value) : 1.0\n",
      "actual : 1.0\n",
      "\n",
      "\n",
      "if close to 0 -> class 0, close to 1 -> class 1\n",
      "predict, absolute value : 0.9910193123442181\n",
      "predict(rounded value) : 1.0\n",
      "actual : 1.0\n",
      "\n",
      "\n",
      "if close to 0 -> class 0, close to 1 -> class 1\n",
      "predict, absolute value : 0.9560480100299881\n",
      "predict(rounded value) : 1.0\n",
      "actual : 1.0\n",
      "\n",
      "\n",
      "if close to 0 -> class 0, close to 1 -> class 1\n",
      "predict, absolute value : 0.9302552820822396\n",
      "predict(rounded value) : 1.0\n",
      "actual : 1.0\n",
      "\n",
      "\n",
      "if close to 0 -> class 0, close to 1 -> class 1\n",
      "predict, absolute value : 0.9671685280637711\n",
      "predict(rounded value) : 1.0\n",
      "actual : 1.0\n",
      "\n",
      "\n",
      "if close to 0 -> class 0, close to 1 -> class 1\n",
      "predict, absolute value : 0.9518980823028266\n",
      "predict(rounded value) : 1.0\n",
      "actual : 1.0\n",
      "\n",
      "\n",
      "if close to 0 -> class 0, close to 1 -> class 1\n",
      "predict, absolute value : 0.9136854101934936\n",
      "predict(rounded value) : 1.0\n",
      "actual : 1.0\n",
      "\n",
      "\n",
      "if close to 0 -> class 0, close to 1 -> class 1\n",
      "predict, absolute value : 0.9496444941656806\n",
      "predict(rounded value) : 1.0\n",
      "actual : 1.0\n",
      "\n",
      "\n"
     ]
    }
   ],
   "source": [
    "#predict the last 10 flowers\n",
    "for i in range(len(test)):\n",
    "    point=test[i][0:4]\n",
    "    z= w1*point[0] + w2*point[1] + w3*point[2]++ w4*point[3] + b\n",
    "    pred = sigmoid(z) #activate z\n",
    "    print(\"if close to 0 -> class 0, close to 1 -> class 1\")\n",
    "    print('predict, absolute value : {}'.format(pred))\n",
    "    print('predict(rounded value) : {}'.format(round(pred,0)))\n",
    "    print('actual : {}\\n\\n'.format(test[i][4]))"
   ]
  },
  {
   "cell_type": "code",
   "execution_count": null,
   "metadata": {},
   "outputs": [],
   "source": []
  }
 ],
 "metadata": {
  "kernelspec": {
   "display_name": "Python 3",
   "language": "python",
   "name": "python3"
  },
  "language_info": {
   "codemirror_mode": {
    "name": "ipython",
    "version": 3
   },
   "file_extension": ".py",
   "mimetype": "text/x-python",
   "name": "python",
   "nbconvert_exporter": "python",
   "pygments_lexer": "ipython3",
   "version": "3.6.8"
  }
 },
 "nbformat": 4,
 "nbformat_minor": 2
}
