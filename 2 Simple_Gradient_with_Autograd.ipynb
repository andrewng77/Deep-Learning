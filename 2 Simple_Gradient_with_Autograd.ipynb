{
  "nbformat": 4,
  "nbformat_minor": 0,
  "metadata": {
    "colab": {
      "name": "Simple Gradient with Autograd ",
      "provenance": [],
      "collapsed_sections": [],
      "authorship_tag": "ABX9TyO+LtjInNHE32QP+/udWTfJ"
    },
    "kernelspec": {
      "name": "python3",
      "display_name": "Python 3"
    }
  },
  "cells": [
    {
      "cell_type": "markdown",
      "metadata": {
        "id": "ViFCvo33Jc8O",
        "colab_type": "text"
      },
      "source": [
        "# Gradient Descent\n",
        "\n"
      ]
    },
    {
      "cell_type": "code",
      "metadata": {
        "id": "D85KCe_pITYT",
        "colab_type": "code",
        "colab": {
          "base_uri": "https://localhost:8080/",
          "height": 34
        },
        "outputId": "3265a881-49a5-45ce-9650-e45df6701689"
      },
      "source": [
        "import torch\n",
        "\n",
        "# we invoke requires_grad=True when we want to find this weight\n",
        "x = torch.randn(3,requires_grad=True)\n",
        "y = x + 2\n",
        "z = y*y*2 #<-- not scalar\n",
        "#z = z.mean()\n",
        "z"
      ],
      "execution_count": 1,
      "outputs": [
        {
          "output_type": "execute_result",
          "data": {
            "text/plain": [
              "tensor([9.0473, 8.1674, 5.2391], grad_fn=<MulBackward0>)"
            ]
          },
          "metadata": {
            "tags": []
          },
          "execution_count": 1
        }
      ]
    },
    {
      "cell_type": "code",
      "metadata": {
        "id": "eNkjg1PTKas7",
        "colab_type": "code",
        "outputId": "587b4019-6664-47a6-c12e-e3b067dee21f",
        "colab": {
          "base_uri": "https://localhost:8080/",
          "height": 34
        }
      },
      "source": [
        "# if z is not scaler, we need to create a v vector that is the same size as z\n",
        "# https://medium.com/unit8-machine-learning-publication/computing-the-jacobian-matrix-of-a-neural-network-in-python-4f162e5db180\n",
        "v = torch.randn(3)\n",
        "v"
      ],
      "execution_count": 2,
      "outputs": [
        {
          "output_type": "execute_result",
          "data": {
            "text/plain": [
              "tensor([-0.3002,  0.5990, -0.2228])"
            ]
          },
          "metadata": {
            "tags": []
          },
          "execution_count": 2
        }
      ]
    },
    {
      "cell_type": "code",
      "metadata": {
        "id": "FcyJ0_kcKI3X",
        "colab_type": "code",
        "outputId": "16427ed9-57e9-4034-d3bf-9759024e9d87",
        "colab": {
          "base_uri": "https://localhost:8080/",
          "height": 34
        }
      },
      "source": [
        "z.backward(v,retain_graph=True) #ok after doing this\n",
        "x.grad"
      ],
      "execution_count": 3,
      "outputs": [
        {
          "output_type": "execute_result",
          "data": {
            "text/plain": [
              "tensor([-2.5543,  4.8422, -1.4426])"
            ]
          },
          "metadata": {
            "tags": []
          },
          "execution_count": 3
        }
      ]
    },
    {
      "cell_type": "markdown",
      "metadata": {
        "id": "Yx6VRqzn7gzN",
        "colab_type": "text"
      },
      "source": [
        "Calculate weights without computation"
      ]
    },
    {
      "cell_type": "code",
      "metadata": {
        "id": "P_hw7cy4LDuZ",
        "colab_type": "code",
        "outputId": "a46d81e3-c079-4fa5-a565-86811482d7b6",
        "colab": {
          "base_uri": "https://localhost:8080/",
          "height": 34
        }
      },
      "source": [
        "x = torch.randn(3,requires_grad=True)\n",
        "x\n",
        "\n",
        "# x.requires_grad_(False)\n",
        "# x.detach()\n",
        "# with torch.no_grad():"
      ],
      "execution_count": 4,
      "outputs": [
        {
          "output_type": "execute_result",
          "data": {
            "text/plain": [
              "tensor([ 1.2138, -1.2162,  0.7640], requires_grad=True)"
            ]
          },
          "metadata": {
            "tags": []
          },
          "execution_count": 4
        }
      ]
    },
    {
      "cell_type": "code",
      "metadata": {
        "id": "UNVE6ubPMxI-",
        "colab_type": "code",
        "outputId": "6fe604fe-e53c-4811-cb79-6abd937a4cef",
        "colab": {
          "base_uri": "https://localhost:8080/",
          "height": 34
        }
      },
      "source": [
        "# option 1\n",
        "x.requires_grad_(False)\n",
        "x"
      ],
      "execution_count": 5,
      "outputs": [
        {
          "output_type": "execute_result",
          "data": {
            "text/plain": [
              "tensor([ 1.2138, -1.2162,  0.7640])"
            ]
          },
          "metadata": {
            "tags": []
          },
          "execution_count": 5
        }
      ]
    },
    {
      "cell_type": "code",
      "metadata": {
        "id": "fdmaGbx8M7YA",
        "colab_type": "code",
        "outputId": "9031403a-928c-4890-cae3-af959cc4bd8d",
        "colab": {
          "base_uri": "https://localhost:8080/",
          "height": 34
        }
      },
      "source": [
        "# option 2\n",
        "y=x.detach()\n",
        "y"
      ],
      "execution_count": 6,
      "outputs": [
        {
          "output_type": "execute_result",
          "data": {
            "text/plain": [
              "tensor([ 1.2138, -1.2162,  0.7640])"
            ]
          },
          "metadata": {
            "tags": []
          },
          "execution_count": 6
        }
      ]
    },
    {
      "cell_type": "code",
      "metadata": {
        "id": "IL-tZHChNDyN",
        "colab_type": "code",
        "outputId": "0ae3cd00-77e5-499a-b868-ee97fa8b786a",
        "colab": {
          "base_uri": "https://localhost:8080/",
          "height": 34
        }
      },
      "source": [
        "# option 3\n",
        "with torch.no_grad():\n",
        "  y = x + 2\n",
        "  print(y)\n"
      ],
      "execution_count": 7,
      "outputs": [
        {
          "output_type": "stream",
          "text": [
            "tensor([3.2138, 0.7838, 2.7640])\n"
          ],
          "name": "stdout"
        }
      ]
    },
    {
      "cell_type": "markdown",
      "metadata": {
        "id": "luLMvWeaN-oU",
        "colab_type": "text"
      },
      "source": [
        "Failed Example on how NOT to reset the grad ( fail to reset )"
      ]
    },
    {
      "cell_type": "code",
      "metadata": {
        "id": "xbFzGV4POBgT",
        "colab_type": "code",
        "colab": {
          "base_uri": "https://localhost:8080/",
          "height": 68
        },
        "outputId": "8ec57f6c-f922-46d8-8e58-3f8fa1a98700"
      },
      "source": [
        "weights = torch.ones(4, requires_grad=True)\n",
        "\n",
        "for epoch in range(3):\n",
        "  model_output = (weights *3).sum()\n",
        "  model_output.backward()\n",
        "\n",
        "  print(weights.grad) # the gradients are accumulated in every loop\n",
        "  #weights.grad.zero_() #reset zero"
      ],
      "execution_count": 8,
      "outputs": [
        {
          "output_type": "stream",
          "text": [
            "tensor([3., 3., 3., 3.])\n",
            "tensor([6., 6., 6., 6.])\n",
            "tensor([9., 9., 9., 9.])\n"
          ],
          "name": "stdout"
        }
      ]
    },
    {
      "cell_type": "markdown",
      "metadata": {
        "id": "i3a6v_OnOHHp",
        "colab_type": "text"
      },
      "source": [
        "We managed to reset the grad here"
      ]
    },
    {
      "cell_type": "code",
      "metadata": {
        "id": "jnKoYIpDNNlm",
        "colab_type": "code",
        "outputId": "007cfc9d-cee5-40cb-a192-e71ffba82e5e",
        "colab": {
          "base_uri": "https://localhost:8080/",
          "height": 68
        }
      },
      "source": [
        "weights = torch.ones(4, requires_grad=True)\n",
        "\n",
        "for epoch in range(3):\n",
        "  model_output = (weights *3).sum()\n",
        "  model_output.backward()\n",
        "\n",
        "  print(weights.grad) # the gradients are NOT summed in every loop\n",
        "  weights.grad.zero_() #reset zero"
      ],
      "execution_count": 9,
      "outputs": [
        {
          "output_type": "stream",
          "text": [
            "tensor([3., 3., 3., 3.])\n",
            "tensor([3., 3., 3., 3.])\n",
            "tensor([3., 3., 3., 3.])\n"
          ],
          "name": "stdout"
        }
      ]
    },
    {
      "cell_type": "markdown",
      "metadata": {
        "id": "Y24X5s2SZivZ",
        "colab_type": "text"
      },
      "source": [
        "Simple Backprop"
      ]
    },
    {
      "cell_type": "code",
      "metadata": {
        "id": "heqn7zHiPFLI",
        "colab_type": "code",
        "outputId": "166d684e-2041-48a9-a900-0c4e9e543bd2",
        "colab": {
          "base_uri": "https://localhost:8080/",
          "height": 68
        }
      },
      "source": [
        "import torch\n",
        "\n",
        "x = torch.tensor(1.0)\n",
        "y = torch.tensor(2.0)\n",
        "w = torch.tensor(1.0,requires_grad=True)\n",
        "\n",
        "# forward pass and compute the loss and local gradient\n",
        "y_hat = w*x\n",
        "loss = (y_hat - y)**2\n",
        "\n",
        "print(loss)\n",
        "\n",
        "# backward pass\n",
        "loss.backward()\n",
        "print(w.grad)\n",
        "\n",
        "## update weights\n",
        "## next forward backward pass\n",
        "\n",
        "w.sub(w.grad)\n",
        "w"
      ],
      "execution_count": 10,
      "outputs": [
        {
          "output_type": "stream",
          "text": [
            "tensor(1., grad_fn=<PowBackward0>)\n",
            "tensor(-2.)\n"
          ],
          "name": "stdout"
        },
        {
          "output_type": "execute_result",
          "data": {
            "text/plain": [
              "tensor(1., requires_grad=True)"
            ]
          },
          "metadata": {
            "tags": []
          },
          "execution_count": 10
        }
      ]
    },
    {
      "cell_type": "code",
      "metadata": {
        "id": "0TeP_KHEYXeO",
        "colab_type": "code",
        "colab": {}
      },
      "source": [
        ""
      ],
      "execution_count": 0,
      "outputs": []
    }
  ]
}
