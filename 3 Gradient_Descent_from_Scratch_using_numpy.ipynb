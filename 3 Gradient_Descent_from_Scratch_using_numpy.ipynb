{
  "nbformat": 4,
  "nbformat_minor": 0,
  "metadata": {
    "colab": {
      "name": "Gradient Descent from Scratch using numpy",
      "provenance": [],
      "collapsed_sections": [],
      "authorship_tag": "ABX9TyPAvBOoYdCS+5juBEmqCCsm",
      "include_colab_link": true
    },
    "kernelspec": {
      "name": "python3",
      "display_name": "Python 3"
    }
  },
  "cells": [
    {
      "cell_type": "markdown",
      "metadata": {
        "id": "view-in-github",
        "colab_type": "text"
      },
      "source": [
        "<a href=\"https://colab.research.google.com/github/andrewng88/Deep-Learning/blob/master/Gradient_Descent_from_Scratch_using_numpy.ipynb\" target=\"_parent\"><img src=\"https://colab.research.google.com/assets/colab-badge.svg\" alt=\"Open In Colab\"/></a>"
      ]
    },
    {
      "cell_type": "markdown",
      "metadata": {
        "id": "xDIlGECj7Xqv",
        "colab_type": "text"
      },
      "source": [
        "Gradient Descent from Scratch using numpy\n",
        "\n"
      ]
    },
    {
      "cell_type": "code",
      "metadata": {
        "id": "uvra7DAG7W9F",
        "colab_type": "code",
        "outputId": "ac975f57-72ad-42a4-f57d-31f30bb79106",
        "colab": {
          "base_uri": "https://localhost:8080/",
          "height": 238
        }
      },
      "source": [
        "import torch\n",
        "import numpy as np\n",
        "np.random.seed(42)\n",
        "\n",
        "# f = w * x\n",
        "# f = 2 * x\n",
        "\n",
        "X = np.array([1,2,3,4],dtype = np.float32)\n",
        "Y = np.array([2,4,6,8],dtype = np.float32)\n",
        "\n",
        "#initialize the weight\n",
        "w = 0.000001\n",
        "print(w)\n",
        "\n",
        "# model prediction\n",
        "def forward(x):\n",
        "  return w * x\n",
        "\n",
        "# loss = MSE\n",
        "def loss(y, y_hat):\n",
        "  return ((y_hat - y)**2).mean()\n",
        "\n",
        "# gradient\n",
        "# MSE = 1/N * (w*x - y)**2\n",
        "# dJ/dw = 1/N 2x (w*x-y)\n",
        "\n",
        "def gradient(x,y,y_hat):\n",
        "  return np.dot(2*x,y_hat-y)/x.size\n",
        "\n",
        "print(f'Prediction before training : f(5) = {forward(5):.3f}')\n",
        "\n",
        "# Training\n",
        "learning_rate = 0.01\n",
        "n_iters = 100\n",
        "\n",
        "for epoch in range(n_iters):\n",
        "  # prediction = forward pass\n",
        "  y_hat = forward(X)\n",
        "  \n",
        "  # loss\n",
        "  l=loss(Y,y_hat)\n",
        "\n",
        "  # gradients\n",
        "  dw = gradient(X,Y,y_hat)\n",
        "\n",
        "  # update weights\n",
        "  w -= learning_rate * dw\n",
        "\n",
        "  if epoch % 10==0:\n",
        "    print(f'epoch: {epoch+1}, weight : {w:.3f}, loss ={l:.8f}')\n",
        "\n",
        "print(f'Prediction after training : f(5) = {forward(5):.3f}')"
      ],
      "execution_count": 3,
      "outputs": [
        {
          "output_type": "stream",
          "text": [
            "1e-06\n",
            "Prediction before training : f(5) = 0.000\n",
            "epoch: 1, weight : 0.300, loss =29.99997139\n",
            "epoch: 11, weight : 1.665, loss =1.16278493\n",
            "epoch: 21, weight : 1.934, loss =0.04506905\n",
            "epoch: 31, weight : 1.987, loss =0.00174685\n",
            "epoch: 41, weight : 1.997, loss =0.00006770\n",
            "epoch: 51, weight : 1.999, loss =0.00000262\n",
            "epoch: 61, weight : 2.000, loss =0.00000010\n",
            "epoch: 71, weight : 2.000, loss =0.00000000\n",
            "epoch: 81, weight : 2.000, loss =0.00000000\n",
            "epoch: 91, weight : 2.000, loss =0.00000000\n",
            "Prediction after training : f(5) = 10.000\n"
          ],
          "name": "stdout"
        }
      ]
    },
    {
      "cell_type": "code",
      "metadata": {
        "id": "0TeP_KHEYXeO",
        "colab_type": "code",
        "colab": {}
      },
      "source": [
        ""
      ],
      "execution_count": 0,
      "outputs": []
    }
  ]
}
